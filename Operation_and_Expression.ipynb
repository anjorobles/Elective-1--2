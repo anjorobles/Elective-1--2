{
  "nbformat": 4,
  "nbformat_minor": 0,
  "metadata": {
    "colab": {
      "name": "Operation and Expression.ipynb",
      "provenance": [],
      "authorship_tag": "ABX9TyO2yyBLTlSvwFl/Rbew/upo",
      "include_colab_link": true
    },
    "kernelspec": {
      "name": "python3",
      "display_name": "Python 3"
    },
    "language_info": {
      "name": "python"
    }
  },
  "cells": [
    {
      "cell_type": "markdown",
      "metadata": {
        "id": "view-in-github",
        "colab_type": "text"
      },
      "source": [
        "<a href=\"https://colab.research.google.com/github/anjorobles/Elective-1--2/blob/main/Operation_and_Expression.ipynb\" target=\"_parent\"><img src=\"https://colab.research.google.com/assets/colab-badge.svg\" alt=\"Open In Colab\"/></a>"
      ]
    },
    {
      "cell_type": "markdown",
      "source": [
        "##Operation and Boolean Function"
      ],
      "metadata": {
        "id": "4GzecTk-rZ-7"
      }
    },
    {
      "cell_type": "code",
      "execution_count": null,
      "metadata": {
        "colab": {
          "base_uri": "https://localhost:8080/"
        },
        "id": "9XaMBP6srHTJ",
        "outputId": "8a344db6-e653-442a-d8d7-47fbe396d36e"
      },
      "outputs": [
        {
          "output_type": "stream",
          "name": "stdout",
          "text": [
            "True\n",
            "False\n",
            "False\n"
          ]
        }
      ],
      "source": [
        "print(10>9)\n",
        "\n",
        "a = 6\n",
        "b = 7\n",
        "print (a==b)\n",
        "print (a!=a)"
      ]
    },
    {
      "cell_type": "markdown",
      "source": [
        "##Phyton Op"
      ],
      "metadata": {
        "id": "WlFyHzfQsBVB"
      }
    },
    {
      "cell_type": "code",
      "source": [
        "print(10-9)\n",
        "print(10+9)\n",
        "print(10*9)\n",
        "print(10/9)\n",
        "print(10%9)\n",
        "print(10**2)\n",
        "print(10//9)"
      ],
      "metadata": {
        "colab": {
          "base_uri": "https://localhost:8080/"
        },
        "id": "dSZDrWa-sE8Q",
        "outputId": "3172a5eb-3364-4bcd-c7a9-978a5041d2b6"
      },
      "execution_count": null,
      "outputs": [
        {
          "output_type": "stream",
          "name": "stdout",
          "text": [
            "1\n",
            "19\n",
            "90\n",
            "1.1111111111111112\n",
            "1\n",
            "100\n",
            "1\n"
          ]
        }
      ]
    },
    {
      "cell_type": "code",
      "source": [
        "##bitwise\n"
      ],
      "metadata": {
        "id": "cbNVqsmYsnKh"
      },
      "execution_count": null,
      "outputs": []
    }
  ]
}