{
  "nbformat": 4,
  "nbformat_minor": 0,
  "metadata": {
    "colab": {
      "name": "introtopython.ipynb",
      "provenance": [],
      "authorship_tag": "ABX9TyPJmv999I24pzDUZYNsyzlj",
      "include_colab_link": true
    },
    "kernelspec": {
      "name": "python3",
      "display_name": "Python 3"
    },
    "language_info": {
      "name": "python"
    }
  },
  "cells": [
    {
      "cell_type": "markdown",
      "metadata": {
        "id": "view-in-github",
        "colab_type": "text"
      },
      "source": [
        "<a href=\"https://colab.research.google.com/github/anjorobles/Elective-1--2/blob/main/introtopython.ipynb\" target=\"_parent\"><img src=\"https://colab.research.google.com/assets/colab-badge.svg\" alt=\"Open In Colab\"/></a>"
      ]
    },
    {
      "cell_type": "code",
      "execution_count": null,
      "metadata": {
        "id": "5uk7TrGfTSIt"
      },
      "outputs": [],
      "source": [
        ""
      ]
    },
    {
      "cell_type": "markdown",
      "source": [
        "##Python Indentation"
      ],
      "metadata": {
        "id": "Fx6L5JozTuW8"
      }
    },
    {
      "cell_type": "code",
      "source": [
        "x=2\n",
        "y=5\n",
        "\n",
        "if x>y:\n",
        "  print(\"Yahaloo\")\n",
        "else:\n",
        "  print(\"Nope\")"
      ],
      "metadata": {
        "colab": {
          "base_uri": "https://localhost:8080/"
        },
        "id": "J5vhhFE7UAEC",
        "outputId": "73546681-56d0-4513-b442-0baafff89d6c"
      },
      "execution_count": 3,
      "outputs": [
        {
          "output_type": "stream",
          "name": "stdout",
          "text": [
            "Nope\n"
          ]
        }
      ]
    },
    {
      "cell_type": "code",
      "source": [
        "x = 'stella'\n",
        "print(x)\n",
        "print(type(x))"
      ],
      "metadata": {
        "colab": {
          "base_uri": "https://localhost:8080/"
        },
        "id": "8q62nGmNVx0i",
        "outputId": "d79d8859-7f87-4119-85cc-63fa1b395cf4"
      },
      "execution_count": 7,
      "outputs": [
        {
          "output_type": "stream",
          "name": "stdout",
          "text": [
            "stella\n",
            "<class 'str'>\n"
          ]
        }
      ]
    }
  ]
}